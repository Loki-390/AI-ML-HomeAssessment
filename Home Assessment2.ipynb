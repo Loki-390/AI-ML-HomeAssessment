{
 "cells": [
  {
   "cell_type": "code",
   "execution_count": 0,
   "metadata": {
    "application/vnd.databricks.v1+cell": {
     "cellMetadata": {
      "byteLimit": 2048000,
      "rowLimit": 10000
     },
     "inputWidgets": {},
     "nuid": "42b3edf9-19bc-4884-bbae-a0ba062582bf",
     "showTitle": false,
     "tableResultSettingsMap": {},
     "title": ""
    }
   },
   "outputs": [
    {
     "output_type": "display_data",
     "data": {
      "text/plain": [
       " 2 1 2 1 3 2 5 5 5"
      ]
     },
     "metadata": {},
     "output_type": "display_data"
    },
    {
     "output_type": "stream",
     "name": "stdout",
     "output_type": "stream",
     "text": [
      "[False False]\n[False False]\n"
     ]
    }
   ],
   "source": [
    "import numpy as np\n",
    "\n",
    "def find_duplicates(ids):\n",
    "    \"\"\"\n",
    "    Find duplicates in a numpy array where first occurrence is False\n",
    "    and subsequent duplicates are True\n",
    "    \"\"\"\n",
    "    # Get unique values and their first occurrence indices\n",
    "    unique_vals, first_indices = np.unique(ids, return_index=True)\n",
    "    \n",
    "    # Create a boolean array initialized to True (assuming all are duplicates)\n",
    "    result = np.ones(len(ids), dtype=bool)\n",
    "    \n",
    "    # Mark first occurrences as False\n",
    "    result[first_indices] = False\n",
    "    \n",
    "    return result\n",
    "\n",
    "# Read all input at once\n",
    "input_data = input().split()\n",
    "t = int(input_data[0])\n",
    "index = 1\n",
    "\n",
    "for _ in range(t):\n",
    "    # Read the array elements\n",
    "    ids = list(map(int, input_data[index:index + int(input_data[index]) + 1]))\n",
    "    ids_array = np.array(ids)\n",
    "    \n",
    "    # Find duplicates\n",
    "    duplicate_mask = find_duplicates(ids_array)\n",
    "    \n",
    "    # Print the result\n",
    "    print(duplicate_mask)\n",
    "    \n",
    "    # Move to the next test case\n",
    "    index += int(input_data[index]) + 1"
   ]
  },
  {
   "cell_type": "code",
   "execution_count": 0,
   "metadata": {
    "application/vnd.databricks.v1+cell": {
     "cellMetadata": {},
     "inputWidgets": {},
     "nuid": "ff6a2baf-5049-401f-a224-bb0841d52113",
     "showTitle": false,
     "tableResultSettingsMap": {},
     "title": ""
    }
   },
   "outputs": [],
   "source": []
  }
 ],
 "metadata": {
  "application/vnd.databricks.v1+notebook": {
   "computePreferences": null,
   "dashboards": [],
   "environmentMetadata": {
    "base_environment": "",
    "environment_version": "2"
   },
   "inputWidgetPreferences": null,
   "language": "python",
   "notebookMetadata": {
    "pythonIndentUnit": 4
   },
   "notebookName": "Home Assessment2",
   "widgets": {}
  },
  "language_info": {
   "name": "python"
  }
 },
 "nbformat": 4,
 "nbformat_minor": 0
}